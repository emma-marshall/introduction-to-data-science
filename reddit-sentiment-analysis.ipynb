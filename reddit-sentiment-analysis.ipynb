{
 "cells": [
  {
   "cell_type": "markdown",
   "metadata": {
    "heading_collapsed": true
   },
   "source": [
    "#### Apple"
   ]
  },
  {
   "cell_type": "code",
   "execution_count": 1,
   "metadata": {
    "hidden": true
   },
   "outputs": [],
   "source": [
    "import praw\n",
    "import pandas as pd\n",
    "import datetime as dt\n",
    "import matplotlib.pyplot as plt\n",
    "from tqdm.notebook import tqdm\n",
    "import credentials as cred"
   ]
  },
  {
   "cell_type": "code",
   "execution_count": 4,
   "metadata": {
    "hidden": true
   },
   "outputs": [],
   "source": [
    "reddit = praw.Reddit(client_id = cred.client_id,\n",
    "                     client_secret = cred.client_secret,\n",
    "                     user_agent = cred.user_agent)"
   ]
  },
  {
   "cell_type": "code",
   "execution_count": 5,
   "metadata": {
    "hidden": true
   },
   "outputs": [
    {
     "data": {
      "application/vnd.jupyter.widget-view+json": {
       "model_id": "ea24ee33d41b404ca37914fd9a541336",
       "version_major": 2,
       "version_minor": 0
      },
      "text/plain": [
       "HBox(children=(FloatProgress(value=0.0, max=200.0), HTML(value='')))"
      ]
     },
     "metadata": {},
     "output_type": "display_data"
    },
    {
     "name": "stdout",
     "output_type": "stream",
     "text": [
      "\n"
     ]
    }
   ],
   "source": [
    "number_of_posts = 200\n",
    "time_period = 'all'\n",
    "\n",
    "subreddit = reddit.subreddit('apple').hot(limit = number_of_posts)\n",
    "subreddit_comments =[]\n",
    "\n",
    "for post in tqdm(subreddit, total = number_of_posts):\n",
    "    submission = reddit.submission(id = post)\n",
    "    submission.comments.replace_more(limit = 0)\n",
    "    for top_level_comment in submission.comments:\n",
    "        subreddit_comments.append(top_level_comment.body)"
   ]
  },
  {
   "cell_type": "code",
   "execution_count": 6,
   "metadata": {
    "hidden": true
   },
   "outputs": [
    {
     "data": {
      "text/plain": [
       "[\"Could someone please help me out? My wife is in the ICU of a hospital  and because of Covid 19 they will not let anyone visit. They do not have  phones in the rooms but the nurses there said I could use Facetime to  talk to her. She's not responding to anyone so I'm hopeful seeing me or  hearing me might trigger something. The problem is I am an  android/linux/wintel guy, what is the cheapest and quickest way for me  to facetime? Iphone? Ipad?\",\n",
       " 'Anyone else getting errors in Apple Music that require a full restart to get the app to even work properly? Driving me insane, says an unknown error occurred and nothing will play. Happening constantly on ios 13.3',\n",
       " 'I have a question regarding my Home Screen. A few days ago, I deleted the icon for an app I use pretty commonly, but I don’t know how to get it back. Is there a way to get the icon back on my Home Screen? Preferably without using the “shortcuts” app either, since it takes a fair amount of time to launch the app',\n",
       " 'iPhone 12 Pro Max Display Question\\n\\nHi guys so I know I’m probably beating a dead horse at this point but I bought a 12PM in Blue when it came out and had the yellow tint/brightness issue so I returned it. As of a couple days ago I rebought another one and turns out it’s exactly how the last one was. When I compare it to every display phone at any store all displays look great side by side compared to mine it always has the yellow tint and isn’t as bright. Are display models just running special software or something or do I keep getting a bad phone? (The display phones were all blue as well if that makes a difference.',\n",
       " 'Hi, I had question about what is happening to my iPhone 11 Pro at random times. So basically sometimes while I’m doing something my screen will go completely black and then a moving circle will appear. After that the phone will turn back on and then I will be back on the locked screen and am able to use my Face ID instead of password but all my apps are closed out but not cleared. Also it’s not like my device overheated or something either so I am very confused. Thanks!',\n",
       " 'Canceled my Apple Music subscription the other day and it said that it would expire on Jan 5th (today), does that mean that it will expire at 12:00 midnight or whatever time I purchased the subscription',\n",
       " 'Hi,\\n\\nI might get an iPhone and move from my Pixel.\\n\\nBut I cant find any info in how to migrate my extensive WhatsApp chat history from one phone to the other.\\n\\nHas anyone found a solution that worked for you?\\n\\nAlso, any suggestions or issues that i need to be aware of?',\n",
       " 'Hey I have an iPhone four that I got from my cousin and I recently realized I don’t need the SIM card from it. It is ok to take it out and just use it for texting and such from my Apple ID?',\n",
       " \"Does Apple have a customer support email listed on their website somewhere?  I can't seem to find any way to send a message about my recent experience trading in a phone through their online trade in system.\\n\\nShort version: first time I've used Phobio and the experience hasn't been good.  Not only did they claim that the model of the phone I sent in was different than what I claimed it was, but they also claimed there was a problem with the screen.  Not only was there no problem with the screen when I mailed it to them in their provided packaging, but there's also nowhere on the Apple trade in process to choose specific details about the phone.  My choices were literally phone model (iPhone 7 in my case) and does it work (yes/no).  Once you choose those 2 options you get a quote for an amount ($75 in this case) and the form to fill out personal info.  Phobio's site lists the trade in as an iPhone 7 256 GB US Cellular, which I assume is why they say the model doesn't match.  There's  no options on the Apple trade in page to choose storage or carrier for the phone.  I'm at a loss here.  Plus, I have no idea how to even address the LCD thing.  The phone hasn't been used since last February when I picked up an iPhone XR and it was still working fine when I shipped it off.  No screen damage and certainly no issues with actually using it.\\n\\nWhat's my best course of action to send feedback to apple?  I don't expect them to rectify anything, especially since I'm sure there's no reason to trust what I say about the phone and I have no way to prove the screen was working.  Shame on me for trusting the service.  I've never had an issue in stores and this phone was probably in better condition than others ive traded in the past.  At this point, the principle of the thing bothers me more.\",\n",
       " \"Received an iPad for child and want to know if it's possible to have the iPad auto-lock after being viewed for 20 minutes for 5 minutes, at which point you can use it again. Example, child uses iPad for 20 minutes, it locks for 5 minutes, after which it can be unlocked and used for another 20 minute period (repeat).\"]"
      ]
     },
     "execution_count": 6,
     "metadata": {},
     "output_type": "execute_result"
    }
   ],
   "source": [
    "subreddit_comments[:10]"
   ]
  },
  {
   "cell_type": "code",
   "execution_count": 7,
   "metadata": {
    "hidden": true
   },
   "outputs": [
    {
     "data": {
      "text/html": [
       "<div>\n",
       "<style scoped>\n",
       "    .dataframe tbody tr th:only-of-type {\n",
       "        vertical-align: middle;\n",
       "    }\n",
       "\n",
       "    .dataframe tbody tr th {\n",
       "        vertical-align: top;\n",
       "    }\n",
       "\n",
       "    .dataframe thead th {\n",
       "        text-align: right;\n",
       "    }\n",
       "</style>\n",
       "<table border=\"1\" class=\"dataframe\">\n",
       "  <thead>\n",
       "    <tr style=\"text-align: right;\">\n",
       "      <th></th>\n",
       "      <th>comment</th>\n",
       "    </tr>\n",
       "  </thead>\n",
       "  <tbody>\n",
       "    <tr>\n",
       "      <th>0</th>\n",
       "      <td>Could someone please help me out? My wife is i...</td>\n",
       "    </tr>\n",
       "    <tr>\n",
       "      <th>1</th>\n",
       "      <td>Anyone else getting errors in Apple Music that...</td>\n",
       "    </tr>\n",
       "    <tr>\n",
       "      <th>2</th>\n",
       "      <td>I have a question regarding my Home Screen. A ...</td>\n",
       "    </tr>\n",
       "    <tr>\n",
       "      <th>3</th>\n",
       "      <td>iPhone 12 Pro Max Display Question\\n\\nHi guys ...</td>\n",
       "    </tr>\n",
       "    <tr>\n",
       "      <th>4</th>\n",
       "      <td>Hi, I had question about what is happening to ...</td>\n",
       "    </tr>\n",
       "    <tr>\n",
       "      <th>...</th>\n",
       "      <td>...</td>\n",
       "    </tr>\n",
       "    <tr>\n",
       "      <th>4145</th>\n",
       "      <td>I sure hope it's a 2018 MacBook Pro recall.</td>\n",
       "    </tr>\n",
       "    <tr>\n",
       "      <th>4146</th>\n",
       "      <td>Who cares what people think, let's just wait a...</td>\n",
       "    </tr>\n",
       "    <tr>\n",
       "      <th>4147</th>\n",
       "      <td>Apple buts Metro-Goldwyn-Mayer (MGM Studios) j...</td>\n",
       "    </tr>\n",
       "    <tr>\n",
       "      <th>4148</th>\n",
       "      <td>Guys, I found out what is being announced!\\n\\n...</td>\n",
       "    </tr>\n",
       "    <tr>\n",
       "      <th>4149</th>\n",
       "      <td>Parler deserved to be banned no matter what yo...</td>\n",
       "    </tr>\n",
       "  </tbody>\n",
       "</table>\n",
       "<p>4150 rows × 1 columns</p>\n",
       "</div>"
      ],
      "text/plain": [
       "                                                comment\n",
       "0     Could someone please help me out? My wife is i...\n",
       "1     Anyone else getting errors in Apple Music that...\n",
       "2     I have a question regarding my Home Screen. A ...\n",
       "3     iPhone 12 Pro Max Display Question\\n\\nHi guys ...\n",
       "4     Hi, I had question about what is happening to ...\n",
       "...                                                 ...\n",
       "4145        I sure hope it's a 2018 MacBook Pro recall.\n",
       "4146  Who cares what people think, let's just wait a...\n",
       "4147  Apple buts Metro-Goldwyn-Mayer (MGM Studios) j...\n",
       "4148  Guys, I found out what is being announced!\\n\\n...\n",
       "4149  Parler deserved to be banned no matter what yo...\n",
       "\n",
       "[4150 rows x 1 columns]"
      ]
     },
     "execution_count": 7,
     "metadata": {},
     "output_type": "execute_result"
    }
   ],
   "source": [
    "subreddit_comments_df = pd.DataFrame(data = {'comment': subreddit_comments})\n",
    "subreddit_comments_df"
   ]
  },
  {
   "cell_type": "code",
   "execution_count": 8,
   "metadata": {
    "hidden": true
   },
   "outputs": [
    {
     "name": "stdout",
     "output_type": "stream",
     "text": [
      "Could\n",
      "someone\n",
      "please\n",
      "help\n",
      "me\n",
      "out\n",
      "My\n",
      "wife\n",
      "is\n",
      "in\n",
      "the\n",
      "ICU\n",
      "of\n",
      "a\n",
      "hospital\n",
      "and\n",
      "because\n",
      "of\n",
      "Covid\n",
      "19\n",
      "they\n",
      "will\n",
      "not\n",
      "let\n",
      "anyone\n",
      "visit\n",
      "They\n",
      "do\n",
      "not\n",
      "have\n",
      "phones\n",
      "in\n",
      "the\n",
      "rooms\n",
      "but\n",
      "the\n",
      "nurses\n",
      "there\n",
      "said\n",
      "I\n",
      "could\n",
      "use\n",
      "Facetime\n",
      "to\n",
      "talk\n",
      "to\n",
      "her\n",
      "She's\n",
      "not\n",
      "responding\n",
      "to\n",
      "anyone\n",
      "so\n",
      "I'm\n",
      "hopeful\n",
      "seeing\n",
      "me\n",
      "or\n",
      "hearing\n",
      "me\n",
      "might\n",
      "trigger\n",
      "something\n",
      "The\n",
      "problem\n",
      "is\n",
      "I\n",
      "am\n",
      "an\n",
      "android/linux/wintel\n",
      "guy\n",
      "what\n",
      "is\n",
      "the\n",
      "cheapest\n",
      "and\n",
      "quickest\n",
      "way\n",
      "for\n",
      "me\n",
      "to\n",
      "facetime\n",
      "Iphone\n",
      "Ipad\n"
     ]
    }
   ],
   "source": [
    "for comment in subreddit_comments_df['comment']:\n",
    "    comment_words = comment.split()\n",
    "    for word in comment_words:\n",
    "        word = word.strip('?:!.,;\"!@()#-')\n",
    "        word = word.replace(\"\\n\", \"\")\n",
    "        print(word)\n",
    "    break"
   ]
  },
  {
   "cell_type": "code",
   "execution_count": 9,
   "metadata": {
    "hidden": true
   },
   "outputs": [],
   "source": [
    "sentiment_file = open(\"AFINN-en-165.txt\", \"r\")\n",
    "sentiments = {\"-5\": 0, \"-4\": 0, \"-3\": 0, \"-2\": 0, \"-1\": 0, \"0\": 0, \"1\": 0, \"2\": 0, \"3\": 0, \"4\": 0, \"5\": 0}\n",
    "scores = {}\n",
    "for line in sentiment_file:\n",
    "    word, score = line.split(\"\\t\")\n",
    "    scores[word] = int(score)\n",
    "    \n",
    "sentiment_file.close()"
   ]
  },
  {
   "cell_type": "code",
   "execution_count": 10,
   "metadata": {
    "hidden": true
   },
   "outputs": [
    {
     "name": "stdout",
     "output_type": "stream",
     "text": [
      "abandon : -2\n",
      "abandoned : -2\n",
      "abandons : -2\n",
      "abducted : -2\n",
      "abduction : -2\n",
      "abductions : -2\n",
      "abhor : -3\n",
      "abhorred : -3\n",
      "abhorrent : -3\n",
      "abhors : -3\n"
     ]
    }
   ],
   "source": [
    "counter = 0\n",
    "for key, value in scores.items():\n",
    "    print(key, ':', value)\n",
    "    counter += 1\n",
    "    if counter >= 10:\n",
    "        break"
   ]
  },
  {
   "cell_type": "code",
   "execution_count": 11,
   "metadata": {
    "hidden": true
   },
   "outputs": [],
   "source": [
    "for word in subreddit_comments_df['comment']:\n",
    "    comment_words = word.split()\n",
    "    for word in comment_words:\n",
    "        word = word.strip('?:!.,;\"!@()#-')\n",
    "        word = word.replace(\"\\n\", \"\")  \n",
    "        if word in scores.keys():  \n",
    "            score = scores[word]  \n",
    "            sentiments[str(score)] += 1"
   ]
  },
  {
   "cell_type": "code",
   "execution_count": 12,
   "metadata": {
    "hidden": true
   },
   "outputs": [
    {
     "name": "stdout",
     "output_type": "stream",
     "text": [
      "-5 sentiment: 2\n",
      "-4 sentiment: 165\n",
      "-3 sentiment: 584\n",
      "-2 sentiment: 1265\n",
      "-1 sentiment: 1001\n",
      "0 sentiment: 0\n",
      "1 sentiment: 1347\n",
      "2 sentiment: 2523\n",
      "3 sentiment: 907\n",
      "4 sentiment: 138\n",
      "5 sentiment: 0\n"
     ]
    }
   ],
   "source": [
    "for sentiment_value in range(-5, 6):\n",
    "    print(f\"{sentiment_value} sentiment:\", sentiments[str(sentiment_value)])"
   ]
  },
  {
   "cell_type": "code",
   "execution_count": 13,
   "metadata": {
    "hidden": true
   },
   "outputs": [
    {
     "data": {
      "text/html": [
       "<div>\n",
       "<style scoped>\n",
       "    .dataframe tbody tr th:only-of-type {\n",
       "        vertical-align: middle;\n",
       "    }\n",
       "\n",
       "    .dataframe tbody tr th {\n",
       "        vertical-align: top;\n",
       "    }\n",
       "\n",
       "    .dataframe thead th {\n",
       "        text-align: right;\n",
       "    }\n",
       "</style>\n",
       "<table border=\"1\" class=\"dataframe\">\n",
       "  <thead>\n",
       "    <tr style=\"text-align: right;\">\n",
       "      <th></th>\n",
       "      <th>Sentiment_Value</th>\n",
       "      <th>Counts</th>\n",
       "      <th>Normalized_Counts</th>\n",
       "    </tr>\n",
       "  </thead>\n",
       "  <tbody>\n",
       "    <tr>\n",
       "      <th>0</th>\n",
       "      <td>-5</td>\n",
       "      <td>2</td>\n",
       "      <td>0.000252</td>\n",
       "    </tr>\n",
       "    <tr>\n",
       "      <th>1</th>\n",
       "      <td>-4</td>\n",
       "      <td>165</td>\n",
       "      <td>0.020802</td>\n",
       "    </tr>\n",
       "    <tr>\n",
       "      <th>2</th>\n",
       "      <td>-3</td>\n",
       "      <td>584</td>\n",
       "      <td>0.073626</td>\n",
       "    </tr>\n",
       "    <tr>\n",
       "      <th>3</th>\n",
       "      <td>-2</td>\n",
       "      <td>1265</td>\n",
       "      <td>0.159481</td>\n",
       "    </tr>\n",
       "    <tr>\n",
       "      <th>4</th>\n",
       "      <td>-1</td>\n",
       "      <td>1001</td>\n",
       "      <td>0.126198</td>\n",
       "    </tr>\n",
       "    <tr>\n",
       "      <th>5</th>\n",
       "      <td>0</td>\n",
       "      <td>0</td>\n",
       "      <td>0.000000</td>\n",
       "    </tr>\n",
       "    <tr>\n",
       "      <th>6</th>\n",
       "      <td>1</td>\n",
       "      <td>1347</td>\n",
       "      <td>0.169818</td>\n",
       "    </tr>\n",
       "    <tr>\n",
       "      <th>7</th>\n",
       "      <td>2</td>\n",
       "      <td>2523</td>\n",
       "      <td>0.318079</td>\n",
       "    </tr>\n",
       "    <tr>\n",
       "      <th>8</th>\n",
       "      <td>3</td>\n",
       "      <td>907</td>\n",
       "      <td>0.114347</td>\n",
       "    </tr>\n",
       "    <tr>\n",
       "      <th>9</th>\n",
       "      <td>4</td>\n",
       "      <td>138</td>\n",
       "      <td>0.017398</td>\n",
       "    </tr>\n",
       "    <tr>\n",
       "      <th>10</th>\n",
       "      <td>5</td>\n",
       "      <td>0</td>\n",
       "      <td>0.000000</td>\n",
       "    </tr>\n",
       "  </tbody>\n",
       "</table>\n",
       "</div>"
      ],
      "text/plain": [
       "    Sentiment_Value  Counts  Normalized_Counts\n",
       "0                -5       2           0.000252\n",
       "1                -4     165           0.020802\n",
       "2                -3     584           0.073626\n",
       "3                -2    1265           0.159481\n",
       "4                -1    1001           0.126198\n",
       "5                 0       0           0.000000\n",
       "6                 1    1347           0.169818\n",
       "7                 2    2523           0.318079\n",
       "8                 3     907           0.114347\n",
       "9                 4     138           0.017398\n",
       "10                5       0           0.000000"
      ]
     },
     "execution_count": 13,
     "metadata": {},
     "output_type": "execute_result"
    }
   ],
   "source": [
    "comment_sentiment_df = pd.DataFrame(data={'Sentiment_Value': list(sentiments.keys()), 'Counts': list(sentiments.values())})\n",
    "comment_sentiment_df['Sentiment_Value'] = comment_sentiment_df['Sentiment_Value'].astype('int')\n",
    "\n",
    "comment_sentiment_df['Normalized_Counts'] = comment_sentiment_df['Counts'] / comment_sentiment_df['Counts'].sum()\n",
    "comment_sentiment_df"
   ]
  },
  {
   "cell_type": "code",
   "execution_count": 14,
   "metadata": {
    "hidden": true
   },
   "outputs": [
    {
     "data": {
      "image/png": "[encoded data removed]",
      "text/plain": [
       "<Figure size 432x288 with 1 Axes>"
      ]
     },
     "metadata": {
      "needs_background": "light"
     },
     "output_type": "display_data"
    }
   ],
   "source": [
    "plt.bar(comment_sentiment_df['Sentiment_Value'], comment_sentiment_df['Counts'], color='m')\n",
    "plt.xlabel('Sentiment Value')\n",
    "plt.ylabel('Count')\n",
    "plt.title('Word Count w/ Sentiment Value - Apple') \n",
    "plt.show()"
   ]
  },
  {
   "cell_type": "code",
   "execution_count": 15,
   "metadata": {
    "hidden": true
   },
   "outputs": [
    {
     "data": {
      "image/png": "[encoded data removed]",
      "text/plain": [
       "<Figure size 432x288 with 1 Axes>"
      ]
     },
     "metadata": {
      "needs_background": "light"
     },
     "output_type": "display_data"
    }
   ],
   "source": [
    "plt.bar(comment_sentiment_df['Sentiment_Value'], comment_sentiment_df['Normalized_Counts'], color='c')\n",
    "plt.xlabel('Sentiment Value')\n",
    "plt.ylabel('Count')\n",
    "plt.title('Normalized Word Count w/ Sentiment Value - Apple') \n",
    "plt.show()"
   ]
  },
  {
   "cell_type": "markdown",
   "metadata": {
    "heading_collapsed": true
   },
   "source": [
    "#### Android"
   ]
  },
  {
   "cell_type": "code",
   "execution_count": 16,
   "metadata": {
    "hidden": true
   },
   "outputs": [
    {
     "data": {
      "application/vnd.jupyter.widget-view+json": {
       "model_id": "5c8571b5c48443c3aea1be3d95e78d56",
       "version_major": 2,
       "version_minor": 0
      },
      "text/plain": [
       "HBox(children=(FloatProgress(value=0.0, max=200.0), HTML(value='')))"
      ]
     },
     "metadata": {},
     "output_type": "display_data"
    },
    {
     "name": "stdout",
     "output_type": "stream",
     "text": [
      "\n"
     ]
    },
    {
     "data": {
      "text/html": [
       "<div>\n",
       "<style scoped>\n",
       "    .dataframe tbody tr th:only-of-type {\n",
       "        vertical-align: middle;\n",
       "    }\n",
       "\n",
       "    .dataframe tbody tr th {\n",
       "        vertical-align: top;\n",
       "    }\n",
       "\n",
       "    .dataframe thead th {\n",
       "        text-align: right;\n",
       "    }\n",
       "</style>\n",
       "<table border=\"1\" class=\"dataframe\">\n",
       "  <thead>\n",
       "    <tr style=\"text-align: right;\">\n",
       "      <th></th>\n",
       "      <th>Sentiment_Value</th>\n",
       "      <th>Counts</th>\n",
       "      <th>Normalized_Counts</th>\n",
       "    </tr>\n",
       "  </thead>\n",
       "  <tbody>\n",
       "    <tr>\n",
       "      <th>0</th>\n",
       "      <td>-5</td>\n",
       "      <td>3</td>\n",
       "      <td>0.000299</td>\n",
       "    </tr>\n",
       "    <tr>\n",
       "      <th>1</th>\n",
       "      <td>-4</td>\n",
       "      <td>254</td>\n",
       "      <td>0.025279</td>\n",
       "    </tr>\n",
       "    <tr>\n",
       "      <th>2</th>\n",
       "      <td>-3</td>\n",
       "      <td>789</td>\n",
       "      <td>0.078523</td>\n",
       "    </tr>\n",
       "    <tr>\n",
       "      <th>3</th>\n",
       "      <td>-2</td>\n",
       "      <td>1377</td>\n",
       "      <td>0.137042</td>\n",
       "    </tr>\n",
       "    <tr>\n",
       "      <th>4</th>\n",
       "      <td>-1</td>\n",
       "      <td>1086</td>\n",
       "      <td>0.108081</td>\n",
       "    </tr>\n",
       "    <tr>\n",
       "      <th>5</th>\n",
       "      <td>0</td>\n",
       "      <td>0</td>\n",
       "      <td>0.000000</td>\n",
       "    </tr>\n",
       "    <tr>\n",
       "      <th>6</th>\n",
       "      <td>1</td>\n",
       "      <td>1588</td>\n",
       "      <td>0.158041</td>\n",
       "    </tr>\n",
       "    <tr>\n",
       "      <th>7</th>\n",
       "      <td>2</td>\n",
       "      <td>3316</td>\n",
       "      <td>0.330016</td>\n",
       "    </tr>\n",
       "    <tr>\n",
       "      <th>8</th>\n",
       "      <td>3</td>\n",
       "      <td>1464</td>\n",
       "      <td>0.145701</td>\n",
       "    </tr>\n",
       "    <tr>\n",
       "      <th>9</th>\n",
       "      <td>4</td>\n",
       "      <td>168</td>\n",
       "      <td>0.016720</td>\n",
       "    </tr>\n",
       "    <tr>\n",
       "      <th>10</th>\n",
       "      <td>5</td>\n",
       "      <td>3</td>\n",
       "      <td>0.000299</td>\n",
       "    </tr>\n",
       "  </tbody>\n",
       "</table>\n",
       "</div>"
      ],
      "text/plain": [
       "    Sentiment_Value  Counts  Normalized_Counts\n",
       "0                -5       3           0.000299\n",
       "1                -4     254           0.025279\n",
       "2                -3     789           0.078523\n",
       "3                -2    1377           0.137042\n",
       "4                -1    1086           0.108081\n",
       "5                 0       0           0.000000\n",
       "6                 1    1588           0.158041\n",
       "7                 2    3316           0.330016\n",
       "8                 3    1464           0.145701\n",
       "9                 4     168           0.016720\n",
       "10                5       3           0.000299"
      ]
     },
     "execution_count": 16,
     "metadata": {},
     "output_type": "execute_result"
    }
   ],
   "source": [
    "subreddit_2 = reddit.subreddit('Android').hot(limit=number_of_posts)\n",
    "\n",
    "subreddit_comments_2 = []\n",
    "\n",
    "for post in tqdm(subreddit_2, total=number_of_posts):\n",
    "    submission = reddit.submission(id=post)\n",
    "    submission.comments.replace_more(limit=0)\n",
    "    for top_level_comment in submission.comments: \n",
    "        subreddit_comments_2.append(top_level_comment.body) \n",
    "        \n",
    "subreddit_comments_df_2 = pd.DataFrame(data={'comment': subreddit_comments_2})\n",
    "\n",
    "sentiments_2 = {\"-5\": 0, \"-4\": 0, \"-3\": 0, \"-2\": 0, \"-1\": 0, \"0\": 0, \"1\": 0, \"2\": 0, \"3\": 0, \"4\": 0, \"5\": 0}\n",
    "\n",
    "for comment in subreddit_comments_df_2['comment']:  \n",
    "    comment_words = comment.split()  \n",
    "    for word in comment_words:  \n",
    "        word = word.strip('?:!.,;\"!@()#-')  \n",
    "        word = word.replace(\"\\n\", \"\")  \n",
    "        if word in scores.keys():  \n",
    "            score = scores[word]  \n",
    "            sentiments_2[str(score)] += 1  \n",
    "                \n",
    "comment_sentiment_df_2 = pd.DataFrame(data={'Sentiment_Value': list(sentiments_2.keys()), 'Counts': list(sentiments_2.values())})\n",
    "comment_sentiment_df_2['Sentiment_Value'] = comment_sentiment_df_2['Sentiment_Value'].astype('int')\n",
    "\n",
    "comment_sentiment_df_2['Normalized_Counts'] = comment_sentiment_df_2['Counts'] / comment_sentiment_df_2['Counts'].sum()  # Normalize the Count\n",
    "comment_sentiment_df_2"
   ]
  },
  {
   "cell_type": "code",
   "execution_count": 17,
   "metadata": {
    "hidden": true
   },
   "outputs": [
    {
     "data": {
      "image/png": "[encoded data removed]",
      "text/plain": [
       "<Figure size 432x288 with 1 Axes>"
      ]
     },
     "metadata": {
      "needs_background": "light"
     },
     "output_type": "display_data"
    }
   ],
   "source": [
    "plt.bar(comment_sentiment_df_2['Sentiment_Value'], comment_sentiment_df_2['Counts'], color='m')\n",
    "plt.xlabel('Sentiment Value')\n",
    "plt.ylabel('Count')\n",
    "plt.title('Word Count w/ Sentiment Value - Android') \n",
    "plt.show()"
   ]
  },
  {
   "cell_type": "code",
   "execution_count": 18,
   "metadata": {
    "hidden": true
   },
   "outputs": [
    {
     "data": {
      "image/png": "[encoded data removed]",
      "text/plain": [
       "<Figure size 432x288 with 1 Axes>"
      ]
     },
     "metadata": {
      "needs_background": "light"
     },
     "output_type": "display_data"
    }
   ],
   "source": [
    "plt.bar(comment_sentiment_df_2['Sentiment_Value'], comment_sentiment_df_2['Normalized_Counts'], color='c')\n",
    "plt.xlabel('Sentiment Value')\n",
    "plt.ylabel('Count')\n",
    "plt.title('Normalized Word Count w/ Sentiment Value - Apple') \n",
    "plt.show()"
   ]
  },
  {
   "cell_type": "markdown",
   "metadata": {
    "heading_collapsed": true
   },
   "source": [
    "#### Combined Plots"
   ]
  },
  {
   "cell_type": "code",
   "execution_count": 19,
   "metadata": {
    "hidden": true
   },
   "outputs": [
    {
     "data": {
      "image/png": "[encoded data removed]",
      "text/plain": [
       "<Figure size 432x288 with 1 Axes>"
      ]
     },
     "metadata": {
      "needs_background": "light"
     },
     "output_type": "display_data"
    }
   ],
   "source": [
    "plt.bar(comment_sentiment_df['Sentiment_Value'], comment_sentiment_df['Counts'], color='gray', label='apple')\n",
    "\n",
    "plt.bar(comment_sentiment_df_2['Sentiment_Value'] + 0.2, comment_sentiment_df_2['Counts'], color='blue', label='android', alpha=0.5)\n",
    "\n",
    "plt.xlabel('Sentiment Value')\n",
    "plt.ylabel('Count')\n",
    "plt.title('Word Count w/ Sentiment Value - Apple vs. Android')\n",
    "plt.tight_layout()\n",
    "plt.legend()\n",
    "plt.show()"
   ]
  },
  {
   "cell_type": "code",
   "execution_count": 20,
   "metadata": {
    "hidden": true
   },
   "outputs": [
    {
     "data": {
      "image/png": "[encoded data removed]",
      "text/plain": [
       "<Figure size 432x288 with 1 Axes>"
      ]
     },
     "metadata": {
      "needs_background": "light"
     },
     "output_type": "display_data"
    }
   ],
   "source": [
    "plt.bar(comment_sentiment_df['Sentiment_Value'], comment_sentiment_df['Normalized_Counts'], color='gray', label='apple')\n",
    "\n",
    "plt.bar(comment_sentiment_df_2['Sentiment_Value'] + 0.2, comment_sentiment_df_2['Normalized_Counts'], color='blue', label='android', alpha=0.5)\n",
    "\n",
    "plt.xlabel('Sentiment Value')\n",
    "plt.ylabel('Count')\n",
    "plt.title('Normalized Word Count w/ Sentiment Value - Apple vs. Android')\n",
    "plt.tight_layout()\n",
    "plt.legend()\n",
    "plt.show()"
   ]
  },
  {
   "cell_type": "markdown",
   "metadata": {
    "heading_collapsed": true
   },
   "source": [
    "#### Analysis"
   ]
  },
  {
   "cell_type": "markdown",
   "metadata": {
    "hidden": true
   },
   "source": [
    "###### What is sentiment analysis?\n",
    "Sentiment analysis analyzes the overall attitude/feeling of text data. It helps to determine if the text is mostly positive or negative. In this assignment, we analyzed the sentiment of each word to determine how people commenting on the Apple and Android subreddits feel about their products. Sentiment analysis can be done as a result of a survey, social media scraping, reviews, etc. It is a great way to analyze unstructured data without having to read through large masses of text. It identifies, analyzes, sorts, and assigns values/counts to data points using NLP (natural language processing) and text analytics.\n",
    "\n",
    "###### How were you able to scrape reddit comments?\n",
    "We were able to scrape reddit comments by installing praw (Python Reddit API Wrapper) - a pre-built wrapper that uses Reddit credentials (client id, client secret, user agent) to communicate with a Python script. After communication has been established, we are able to select a subreddit of our choice, and filter it by the numbner of posts, the time frame, and type of post - hot, top, new. The data (comments) are stored in a list. Scraping the reddit comments was made really easy thanks to the pre-built wrapper. Before beginning to parse and manipulate the data, the process of scraping the comments only takes about 4 lines of code:\n",
    "    reddit = praw.Reddit(client_id='xxx', client_secret='xxx', user_agent='xxx')\n",
    "    number_of_posts = 200\n",
    "    time_period = 'all'\n",
    "    subreddit = reddit.subreddit('apple').hot(limit=number_of_posts)\n",
    "\n",
    "###### What subreddits did you analyze?\n",
    "I wanted to analyze two competiters, so I chose the Apple and Android subreddits. Although not very original, there is a lot of talk about who produces the better product, so I thought it would be fun to see who was spoken about more positively. \n",
    "\n",
    "###### Why did you normalize the sentiment scores?\n",
    "We normalized the sentiment scores so that the y-axis wasn't based on just a flat count of the number of words found in the comments. Even though the number of comments was limited to the top 200, each comment can be of varying size. By using normalized counts, we are able to get a proportion of the count of words analyzed. This is helpful when putting both the Apple and Android results on the same axis. With Apple and Android there was not too much of a change (biggest adjustment being on the -1 and 1 sentiments), but there was a difference between counts and counts / counts.sum, making the normlaized data a better representation of the comparison. \n",
    "\n",
    "###### What were the results of the sentiment analysis?\n",
    "For the most part Apple and Addroid are fairly similar, but Android does have the more positive sentiment. Apple sentiment value counts are either equal or higher then the counts for Android when analyzing negative values, but equal or lower when analyzing the positive values. So Apple does have the most amount of negative sentiment counts, and the least amount of positive sentiment counts. For both companies, their highest word count had a sentiment value of 2. Although there is a distinction with who has the more positive sentiment among redditers, there is not a huge discrepency. The results of the two companies are not very polarizing. \n"
   ]
  },
  {
   "cell_type": "code",
   "execution_count": null,
   "metadata": {
    "hidden": true
   },
   "outputs": [],
   "source": []
  }
 ],
 "metadata": {
  "kernelspec": {
   "display_name": "Python 3",
   "language": "python",
   "name": "python3"
  },
  "language_info": {
   "codemirror_mode": {
    "name": "ipython",
    "version": 3
   },
   "file_extension": ".py",
   "mimetype": "text/x-python",
   "name": "python",
   "nbconvert_exporter": "python",
   "pygments_lexer": "ipython3",
   "version": "3.8.3"
  }
 },
 "nbformat": 4,
 "nbformat_minor": 4
}
